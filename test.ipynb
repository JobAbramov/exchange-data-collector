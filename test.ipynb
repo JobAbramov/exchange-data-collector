{
 "cells": [
  {
   "cell_type": "code",
   "execution_count": 6,
   "metadata": {},
   "outputs": [],
   "source": [
    "import pandas as pd\n",
    "import numpy as np\n",
    "from collectors.db import Influx\n",
    "from collectors.clients import Binance\n",
    "from dotenv import get_key\n",
    "from datetime import datetime\n",
    "\n",
    "URL = get_key('.env', 'URL')\n",
    "TOKEN = get_key('.env', 'TOKEN')\n",
    "ORG = get_key('.env', 'ORG')\n",
    "BUCKET = get_key('.env', 'BUCKET')\n",
    "API_KEY = get_key('.env', 'API_KEY')\n",
    "API_SECRET = get_key('.env', 'API_SECRET')\n"
   ]
  },
  {
   "cell_type": "code",
   "execution_count": 7,
   "metadata": {},
   "outputs": [
    {
     "data": {
      "text/html": [
       "<div>\n",
       "<style scoped>\n",
       "    .dataframe tbody tr th:only-of-type {\n",
       "        vertical-align: middle;\n",
       "    }\n",
       "\n",
       "    .dataframe tbody tr th {\n",
       "        vertical-align: top;\n",
       "    }\n",
       "\n",
       "    .dataframe thead th {\n",
       "        text-align: right;\n",
       "    }\n",
       "</style>\n",
       "<table border=\"1\" class=\"dataframe\">\n",
       "  <thead>\n",
       "    <tr style=\"text-align: right;\">\n",
       "      <th></th>\n",
       "      <th>_measurement</th>\n",
       "      <th>close</th>\n",
       "      <th>high</th>\n",
       "      <th>low</th>\n",
       "      <th>open</th>\n",
       "      <th>volume</th>\n",
       "    </tr>\n",
       "    <tr>\n",
       "      <th>_time</th>\n",
       "      <th></th>\n",
       "      <th></th>\n",
       "      <th></th>\n",
       "      <th></th>\n",
       "      <th></th>\n",
       "      <th></th>\n",
       "    </tr>\n",
       "  </thead>\n",
       "  <tbody>\n",
       "    <tr>\n",
       "      <th>2023-04-20 00:00:00+00:00</th>\n",
       "      <td>BTCUSDT</td>\n",
       "      <td>30080.530451</td>\n",
       "      <td>30087.113594</td>\n",
       "      <td>30073.619193</td>\n",
       "      <td>30080.693969</td>\n",
       "      <td>38.168975</td>\n",
       "    </tr>\n",
       "    <tr>\n",
       "      <th>2023-04-27 00:00:00+00:00</th>\n",
       "      <td>BTCUSDT</td>\n",
       "      <td>27923.875444</td>\n",
       "      <td>27933.232834</td>\n",
       "      <td>27914.293965</td>\n",
       "      <td>27923.913651</td>\n",
       "      <td>45.641347</td>\n",
       "    </tr>\n",
       "    <tr>\n",
       "      <th>2023-05-04 00:00:00+00:00</th>\n",
       "      <td>BTCUSDT</td>\n",
       "      <td>28906.314415</td>\n",
       "      <td>28915.675032</td>\n",
       "      <td>28896.662421</td>\n",
       "      <td>28906.254420</td>\n",
       "      <td>38.672850</td>\n",
       "    </tr>\n",
       "    <tr>\n",
       "      <th>2023-05-11 00:00:00+00:00</th>\n",
       "      <td>BTCUSDT</td>\n",
       "      <td>28493.743910</td>\n",
       "      <td>28502.299773</td>\n",
       "      <td>28484.954122</td>\n",
       "      <td>28493.890431</td>\n",
       "      <td>35.690157</td>\n",
       "    </tr>\n",
       "    <tr>\n",
       "      <th>2023-05-14 21:00:00+00:00</th>\n",
       "      <td>BTCUSDT</td>\n",
       "      <td>26861.397642</td>\n",
       "      <td>26868.557742</td>\n",
       "      <td>26854.226057</td>\n",
       "      <td>26861.515328</td>\n",
       "      <td>28.226183</td>\n",
       "    </tr>\n",
       "  </tbody>\n",
       "</table>\n",
       "</div>"
      ],
      "text/plain": [
       "                          _measurement         close          high   \n",
       "_time                                                                \n",
       "2023-04-20 00:00:00+00:00      BTCUSDT  30080.530451  30087.113594  \\\n",
       "2023-04-27 00:00:00+00:00      BTCUSDT  27923.875444  27933.232834   \n",
       "2023-05-04 00:00:00+00:00      BTCUSDT  28906.314415  28915.675032   \n",
       "2023-05-11 00:00:00+00:00      BTCUSDT  28493.743910  28502.299773   \n",
       "2023-05-14 21:00:00+00:00      BTCUSDT  26861.397642  26868.557742   \n",
       "\n",
       "                                    low          open     volume  \n",
       "_time                                                             \n",
       "2023-04-20 00:00:00+00:00  30073.619193  30080.693969  38.168975  \n",
       "2023-04-27 00:00:00+00:00  27914.293965  27923.913651  45.641347  \n",
       "2023-05-04 00:00:00+00:00  28896.662421  28906.254420  38.672850  \n",
       "2023-05-11 00:00:00+00:00  28484.954122  28493.890431  35.690157  \n",
       "2023-05-14 21:00:00+00:00  26854.226057  26861.515328  28.226183  "
      ]
     },
     "execution_count": 7,
     "metadata": {},
     "output_type": "execute_result"
    }
   ],
   "source": [
    "with Influx(db_url= URL, db_token = TOKEN, db_org = ORG, db_bucket = BUCKET) as db, Binance(API_KEY, API_SECRET) as bn:\n",
    "    test_data = db.select('Bitcoin', ['BTCUSDT'], int(datetime.fromisoformat('2023-04-14').timestamp()), int(datetime.fromisoformat('2023-05-15').timestamp()), '7d',['open', 'close', 'high', 'low', 'volume'], to_dataframe=True)\n",
    "    time = db.get_last_date('BTCUSDT')\n",
    "test_data"
   ]
  },
  {
   "cell_type": "code",
   "execution_count": 8,
   "metadata": {},
   "outputs": [
    {
     "data": {
      "text/plain": [
       "datetime.datetime(2023, 5, 19, 13, 22, tzinfo=tzutc())"
      ]
     },
     "execution_count": 8,
     "metadata": {},
     "output_type": "execute_result"
    }
   ],
   "source": [
    "time"
   ]
  }
 ],
 "metadata": {
  "kernelspec": {
   "display_name": ".venv",
   "language": "python",
   "name": "python3"
  },
  "language_info": {
   "codemirror_mode": {
    "name": "ipython",
    "version": 3
   },
   "file_extension": ".py",
   "mimetype": "text/x-python",
   "name": "python",
   "nbconvert_exporter": "python",
   "pygments_lexer": "ipython3",
   "version": "3.10.9"
  },
  "orig_nbformat": 4
 },
 "nbformat": 4,
 "nbformat_minor": 2
}
